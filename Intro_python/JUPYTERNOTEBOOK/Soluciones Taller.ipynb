{
 "cells": [
  {
   "cell_type": "markdown",
   "id": "44feb908",
   "metadata": {},
   "source": [
    "# SOLUCIONES TALLER No. 1\n",
    "## Creado por Julián René Cháux Cedeño"
   ]
  },
  {
   "cell_type": "markdown",
   "id": "0c0ff739",
   "metadata": {},
   "source": [
    "## Problema No. 1: Script que determine si en una lista hay números duplicados.\n",
    "### A.\tMediante una descripción corta y el uso de la entrada de datos por teclado, el usuario escogerá si desea crear la lista ingresando manualmente los números (mínimo 8) o si los desea general aleatoria y automáticamente.\n",
    "### B.\tSi escoge ingresarlos manualmente, el sistema primero le pedirá que ingrese la cantidad de números que va a solicitar, luego, le pedirá el ingreso mediante teclado de cada número y los guardará en una lista. (mínimo 8).\n",
    "### C.\tSi escoge generarlos aleatoria y automáticamente, cree una función que genere una lista de 20 números aleatorios del 1 al 100.\n",
    "### D.\tAl finalizar, se debe verificar, mediante una función u otro método, para que tome esa lista (generada manual o aleatoriamente) y devuelva True si tiene algún elemento duplicado y False si no los tiene. La función no debe modificar la lista.\n"
   ]
  },
  {
   "cell_type": "code",
   "execution_count": null,
   "id": "29b7c117",
   "metadata": {},
   "outputs": [],
   "source": [
    "import random\n",
    "opcion = int(input(\"\"\"Escoje la opción:\n",
    "1. Crear la lista manualmente\n",
    "2. Crear la lista automáticamente\n",
    "Ingrese su selección: \"\"\"))\n",
    "lista = []\n",
    "if opcion == 1:\n",
    "    numero = int(input(\"Ingrese la cantidad de números que va a solicitar (minimo 8): \"))\n",
    "    for loop in range(numero):\n",
    "        seleccion = int(input(\"Ingrese el número {} \".format(loop+1)))\n",
    "        lista.append(seleccion)\n",
    "else:\n",
    "    lista = [random.randint(1,100) for x in range(20)]\n",
    "print(lista)\n",
    "lista_set = set(lista)\n",
    "print(lista_set)\n",
    "print(\"La lista tiene números duplicados: TRUE\") if len(lista) != len(set(lista)) else print(\"La lista NO tiene números duplicados: FALSE\")"
   ]
  },
  {
   "cell_type": "markdown",
   "id": "775a641b",
   "metadata": {},
   "source": [
    "## Problema No. 2: Al realizar una consulta a la base de datos de la universidad del registro de notas de diez (10) estudiantes, hemos obtenido una cadena de texto que no se entiende.  La idea de la consulta era conocer:\n",
    "### Nombre\tNota\tMateria\n",
    "\n",
    "### La cadena recibida de la base de datos es la siguiente:\n",
    "\n",
    "### cadena_recibida = \"ejaugneL,2.9,adelobrA ordeP esoJ%airotsiH,6.8,zenitraM nailuJ leahciM%selgnI,7.4,ravoT serdnA otrebmuH%airotsiH,3.2,omodreP serdnA odraciR%sacitametaM,9.9,edardnA ailiceC ahtraM%selgnI,8.7,sagraV otreblA oguH%ejaugneL,6.8,edardnA nomaR ordeP%aifosoliF,6.5,aicraG sixelA ramO%sacitametaM,8.9,odiluP olimaC serdnA%airotsiH,7.6,xuahC eneR nailuJ\"\n",
    "\n",
    "### Desarrollar un script que organice en un tipo de dato “Diccionario”, los nombres de los estudiantes, con su nota y la materia.  Las claves de los nombres deben ser “nombre1”, “nombre2”…, las claves para las notas deben ser “nota1”, “nota”… y las claves de las materia deben ser “materia1”, “materia2” sucesivamente.  A continuación, se muestra el ejemplo de salida.\n",
    "### {'nombre1': 'Nombre Estudiante 1', 'nota1': 5.0, 'materia1': 'Nombre Materia', 'nombre2': 'Nombre Estudiante 2', 'nota1': 4.0, 'materia2': 'Nombre Materia',  …}\n",
    "### Por último, imprimir en pantalla la información de todos los estudiantes para mostrarla de la siguiente manera:\n",
    "### Nombre\tNota\tMateria\n"
   ]
  },
  {
   "cell_type": "code",
   "execution_count": null,
   "id": "f87772dc",
   "metadata": {},
   "outputs": [],
   "source": [
    "cadena_recibida = \"ejaugneL,2.9,adelobrA ordeP esoJ%airotsiH,6.8,zenitraM nailuJ leahciM%selgnI,7.4,ravoT serdnA otrebmuH%airotsiH,3.2,omodreP serdnA odraciR%sacitametaM,9.9,edardnA ailiceC ahtraM%selgnI,8.7,sagraV otreblA oguH%ejaugneL,6.8,edardnA nomaR ordeP%aifosoliF,6.5,aicraG sixelA ramO%sacitametaM,8.9,odiluP olimaC serdnA%airotsiH,7.6,xuahC eneR nailuJ\"\n",
    "cadena_volteada = cadena_recibida[::-1]\n",
    "estudiantes = cadena_volteada.split('%')\n",
    "estudiantes_separados = [x.split(',') for x in estudiantes]\n",
    "diccionario = {}\n",
    "print(\"Nombre \\t Nota \\t Materia\")\n",
    "for index, i in enumerate(estudiantes_separados):\n",
    "    index += 1\n",
    "    diccionario['nombre{}'.format(index)] = i[0]\n",
    "    diccionario['nota{}'.format(index)] = i[1]\n",
    "    diccionario['materia{}'.format(index)] = i[2]    \n",
    "    print(\"{} \\t {} \\t {}\".format(i[0], i[1], i[2]))\n",
    "print(diccionario)"
   ]
  },
  {
   "cell_type": "markdown",
   "id": "d259cfc8",
   "metadata": {},
   "source": [
    "## Problema No. 3: La inmobiliaria SENA & CIA, maneja una lista de inmuebles para la venta, como la siguiente:\n",
    "### [{'casa':'Casa 1', 'año': 2000, 'metros': 100, 'habitaciones': 3, 'garaje': True, 'zona': 'A'},\n",
    "### {'casa':'Casa 2', 'año': 2012, 'metros': 60, 'habitaciones': 2, 'garaje': True, 'zona': 'B'},\n",
    "### {'casa':'Casa 3', 'año': 1980, 'metros': 120, 'habitaciones': 4, 'garaje': False, 'zona': 'A'},\n",
    "### {'casa':'Casa 4', 'año': 2005, 'metros': 75, 'habitaciones': 3, 'garaje': True, 'zona': 'B'},\n",
    "### {'casa':'Casa 5', 'año': 2015, 'metros': 90, 'habitaciones': 2, 'garaje': False, 'zona': 'A'}]\n",
    "\n",
    "### Construir un script que permita hacerle búsqueda al cliente en función de su presupuesto.  Para esto el script debe solicitarle al cliente dicho valor mediante una entrada de datos por teclado y devolverle la información de las casas que puede comprar con su presupuesto (todas las casas con precios menores o iguales al presupuesto), de la siguiente manera:\n",
    "#### _Puede comprar la casa Casa 1 que tiene 200 metros, 6 habitaciones, Si cuenta con garaje, tiene 15 años de antiguedad y un valor de 42000000 pesos._\n",
    "#### _Puede comprar la casa Casa 3 que tiene 120 metros, 4 habitaciones, No cuenta con garaje, tiene 42 años de antiguedad y un valor de 34000000 pesos._\n",
    "\n",
    "### Si el presupuesto no le alcanza para comprar ninguna casa, le saldrá el mensaje:\n",
    "#### _Lastimosamente, con ese presupuesto no puede comprar ninguna vivienda_\n",
    "\n",
    "### Para calcular antigüedad, se toma como referencia el año actual (2022) y sería la resta entre 2022 y año de la casa que aparece en la lista, por ejemplo, para la ‘Casa 1’ la antigüedad sería de 2022 – 2000 = 12 años.  Los rangos de los precios según la antigüedad se muestran en la siguiente tabla:\n",
    "### Antigüedad\tValor por Antigüedad\n",
    "### Entre 0 y 10 años\t50.000.000\n",
    "### Entre 11 y 20 años\t40.000.000\n",
    "### Entre 21 y 30 años\t30.000.000\n",
    "### Mayores de 30 años\t20.000.000\n",
    "\n",
    "### El precio de la casa se calcula con la siguiente fórmula en función de la zona:\n",
    "### Precio ZONA A = metros * 100000 + habitaciones * 500000 + garaje * 1500000 + valor_antiguedad\n",
    "### Precio ZONA B = metros * 200000 + habitaciones * 600000 + garaje * 2500000 + valor_antiguedad\n"
   ]
  },
  {
   "cell_type": "code",
   "execution_count": null,
   "id": "59259e4c",
   "metadata": {},
   "outputs": [],
   "source": [
    "inmuebles = [{'casa':'Casa 1','año': 2000, 'metros': 100, 'habitaciones': 3, 'garaje': True, 'zona': 'A'},\n",
    "{'casa':'Casa 2','año': 2012, 'metros': 60, 'habitaciones': 2, 'garaje': True, 'zona': 'B'},\n",
    "{'casa':'Casa 3','año': 1980, 'metros': 120, 'habitaciones': 4, 'garaje': False, 'zona': 'A'},\n",
    "{'casa':'Casa 4','año': 2005, 'metros': 75, 'habitaciones': 3, 'garaje': True, 'zona': 'B'},\n",
    "{'casa':'Casa 5','año': 2015, 'metros': 90, 'habitaciones': 2, 'garaje': False, 'zona': 'A'}]\n",
    "\n",
    "presupuesto = int(input(\"Ingrese el Presupuesto estimado para la compra de su Vivienda: \"))\n",
    "\n",
    "vivienda = 0\n",
    "for i in inmuebles:\n",
    "    metros = i['metros']\n",
    "    habitaciones = i['habitaciones']\n",
    "    garaje = i['garaje']*1\n",
    "\n",
    "    if (2022 - i['año'] >= 0) and (2022 - i['año'] <= 10):\n",
    "        valor_antiguedad = 50000000\n",
    "    elif (2022 - i['año'] > 10) and (2022 - i['año'] <= 20):\n",
    "        valor_antiguedad = 40000000\n",
    "    elif (2022 - i['año'] > 20) and (2022 - i['año'] <= 30):\n",
    "        valor_antiguedad = 30000000\n",
    "    else:\n",
    "        valor_antiguedad = 20000000\n",
    "        \n",
    "    if i['zona'] == 'A':\n",
    "        precio = metros * 100000 + habitaciones * 500000 + garaje * 1500000 + valor_antiguedad\n",
    "    else:\n",
    "        precio = metros * 200000 + habitaciones * 600000 + garaje * 2500000 + valor_antiguedad\n",
    "        \n",
    "    #i['valor_vivienda'] = precio\n",
    "    \n",
    "    if presupuesto >= precio:\n",
    "        print(\"Puede comprar la casa {} que tiene {} metros, {} habitaciones, {} cuenta con garaje, tiene {} años de antiguedad y un valor de ${} pesos.\".format(i['casa'], i['metros'], i['habitaciones'], 'Si' if i['garaje'] == True else 'No', 2022 - i['año'], precio))\n",
    "        vivienda += 1\n",
    "\n",
    "if vivienda == 0:\n",
    "    print(\"Lastimosamente, con ese presupuesto no puede comprar ninguna vivienda\")"
   ]
  }
 ],
 "metadata": {
  "kernelspec": {
   "display_name": "Python 3 (ipykernel)",
   "language": "python",
   "name": "python3"
  },
  "language_info": {
   "codemirror_mode": {
    "name": "ipython",
    "version": 3
   },
   "file_extension": ".py",
   "mimetype": "text/x-python",
   "name": "python",
   "nbconvert_exporter": "python",
   "pygments_lexer": "ipython3",
   "version": "3.9.12"
  }
 },
 "nbformat": 4,
 "nbformat_minor": 5
}
